{
 "cells": [
  {
   "cell_type": "code",
   "execution_count": 1,
   "metadata": {},
   "outputs": [
    {
     "name": "stderr",
     "output_type": "stream",
     "text": [
      "Usage: ipykernel_launcher.py [OPTIONS] FILENAME COUNT OUTPUT_DIR\n",
      "Try \"ipykernel_launcher.py --help\" for help.\n",
      "\n",
      "Error: no such option: -f\n"
     ]
    },
    {
     "ename": "SystemExit",
     "evalue": "2",
     "output_type": "error",
     "traceback": [
      "An exception has occurred, use %tb to see the full traceback.\n",
      "\u001b[0;31mSystemExit\u001b[0m\u001b[0;31m:\u001b[0m 2\n"
     ]
    },
    {
     "name": "stderr",
     "output_type": "stream",
     "text": [
      "/Users/nazribajuri/anaconda3/envs/fastai/lib/python3.6/site-packages/IPython/core/interactiveshell.py:3334: UserWarning: To exit: use 'exit', 'quit', or Ctrl-D.\n",
      "  warn(\"To exit: use 'exit', 'quit', or Ctrl-D.\", stacklevel=1)\n"
     ]
    }
   ],
   "source": [
    "import random\n",
    "from pathlib import Path\n",
    "\n",
    "import click\n",
    "from PIL import Image, ImageDraw, ImageFont\n",
    "\n",
    "\n",
    "IMAGE_SIZE = 299\n",
    "\n",
    "\n",
    "def render_text(text: str, filename: Path, font: ImageFont):\n",
    "    img = Image.new('RGB', (IMAGE_SIZE, IMAGE_SIZE), (0, 0, 0))\n",
    "\n",
    "    d = ImageDraw.Draw(img)\n",
    "    d.text((2, 2), text, font=font, fill=(255, 255, 255), spacing=1)\n",
    "\n",
    "    img.save(filename, 'PNG')\n",
    "\n",
    "\n",
    "def render_test(output_dir):\n",
    "    output_dir = Path(output_dir)\n",
    "    output_dir.mkdir(parents=True, exist_ok=True)\n",
    "\n",
    "    font = ImageFont.truetype('RobotoMono-Regular.ttf', 8)\n",
    "\n",
    "    text = '\\n'.join([f\"line number {i} ...\" for i in range(50)])\n",
    "    render_text(text, output_dir / 'test.png', font)\n",
    "\n",
    "\n",
    "@click.command()\n",
    "@click.argument('filename', type=click.Path(exists=True))\n",
    "@click.argument('count', type=click.INT)\n",
    "@click.argument('output_dir', type=click.Path(file_okay=False, dir_okay=True))\n",
    "def main(filename, count, output_dir):\n",
    "    output_dir = Path(output_dir)\n",
    "    output_dir.mkdir(parents=True, exist_ok=True)\n",
    "    print(filename, count, output_dir)\n",
    "\n",
    "    font = ImageFont.truetype('RobotoMono-Regular.ttf', 8)\n",
    "    # 256x256: 17 lines per image with 10-sized font and default spacing. 27 lines per 8-size font and spacing=1\n",
    "    # 299x299: 32 lines per 8-size font and spacing=1\n",
    "    lines_per_image = 32\n",
    "\n",
    "    with open(filename, 'r') as f:\n",
    "        input_lines = f.readlines()\n",
    "\n",
    "    print(f\"Rendering {count} images from {len(input_lines)} lines \", end='', flush=True)\n",
    "    offsets = sorted([random.randint(0, len(input_lines) - lines_per_image) for _ in range(count)])\n",
    "    for i in range(count):\n",
    "        first_line_no = offsets[i]\n",
    "        text = '\\n'.join(input_lines[first_line_no : first_line_no + lines_per_image])\n",
    "\n",
    "        render_text(text, output_dir / f'{i:03d}.png', font)\n",
    "\n",
    "        print('.', end='', flush=True)\n",
    "\n",
    "    print(' DONE')\n",
    "\n",
    "\n",
    "if __name__ == '__main__':\n",
    "    main()\n"
   ]
  },
  {
   "cell_type": "code",
   "execution_count": 2,
   "metadata": {},
   "outputs": [],
   "source": [
    "import random\n",
    "from pathlib import Path\n",
    "\n",
    "import click\n",
    "from PIL import Image, ImageDraw, ImageFont\n",
    "\n",
    "\n",
    "IMAGE_SIZE = 299\n"
   ]
  },
  {
   "cell_type": "code",
   "execution_count": 3,
   "metadata": {},
   "outputs": [],
   "source": [
    "def render_text(text: str, filename: Path, font: ImageFont):\n",
    "    img = Image.new('RGB', (IMAGE_SIZE, IMAGE_SIZE), (0, 0, 0))\n",
    "\n",
    "    d = ImageDraw.Draw(img)\n",
    "    d.text((2, 2), text, font=font, fill=(255, 255, 255), spacing=1)\n",
    "\n",
    "    img.save(filename, 'PNG')\n",
    "\n",
    "\n",
    "def render_test(output_dir):\n",
    "    output_dir = Path(output_dir)\n",
    "    output_dir.mkdir(parents=True, exist_ok=True)\n",
    "\n",
    "    font = ImageFont.truetype('RobotoMono-Regular.ttf', 8)\n",
    "\n",
    "    text = '\\n'.join([f\"line number {i} ...\" for i in range(50)])\n",
    "    render_text(text, output_dir / 'test.png', font)\n",
    "\n"
   ]
  },
  {
   "cell_type": "code",
   "execution_count": 5,
   "metadata": {},
   "outputs": [
    {
     "name": "stderr",
     "output_type": "stream",
     "text": [
      "Usage: ipykernel_launcher.py [OPTIONS] FILENAME COUNT OUTPUT_DIR\n",
      "Try \"ipykernel_launcher.py --help\" for help.\n",
      "\n",
      "Error: no such option: -f\n"
     ]
    },
    {
     "ename": "SystemExit",
     "evalue": "2",
     "output_type": "error",
     "traceback": [
      "An exception has occurred, use %tb to see the full traceback.\n",
      "\u001b[0;31mSystemExit\u001b[0m\u001b[0;31m:\u001b[0m 2\n"
     ]
    }
   ],
   "source": [
    "\n",
    "@click.command()\n",
    "@click.argument('filename', type=click.Path(exists=True))\n",
    "@click.argument('count', type=click.INT)\n",
    "@click.argument('output_dir', type=click.Path(file_okay=False, dir_okay=True))\n",
    "def main(filename, count, output_dir):\n",
    "    output_dir = Path(output_dir)\n",
    "    output_dir.mkdir(parents=True, exist_ok=True)\n",
    "    print(filename, count, output_dir)\n",
    "\n",
    "    font = ImageFont.truetype('RobotoMono-Regular.ttf', 8)\n",
    "    # 256x256: 17 lines per image with 10-sized font and default spacing. 27 lines per 8-size font and spacing=1\n",
    "    # 299x299: 32 lines per 8-size font and spacing=1\n",
    "    lines_per_image = 32\n",
    "\n",
    "    with open(filename, 'r') as f:\n",
    "        input_lines = f.readlines()\n",
    "\n",
    "    print(f\"Rendering {count} images from {len(input_lines)} lines \", end='', flush=True)\n",
    "    offsets = sorted([random.randint(0, len(input_lines) - lines_per_image) for _ in range(count)])\n",
    "    for i in range(count):\n",
    "        first_line_no = offsets[i]\n",
    "        text = '\\n'.join(input_lines[first_line_no : first_line_no + lines_per_image])\n",
    "\n",
    "        render_text(text, output_dir / f'{i:03d}.png', font)\n",
    "\n",
    "        print('.', end='', flush=True)\n",
    "\n",
    "    print(' DONE')\n",
    "\n",
    "\n",
    "if __name__ == '__main__':\n",
    "    main()\n"
   ]
  },
  {
   "cell_type": "code",
   "execution_count": 8,
   "metadata": {},
   "outputs": [
    {
     "ename": "NameError",
     "evalue": "name 'ipykernel_launcher' is not defined",
     "output_type": "error",
     "traceback": [
      "\u001b[0;31m---------------------------------------------------------------------------\u001b[0m",
      "\u001b[0;31mNameError\u001b[0m                                 Traceback (most recent call last)",
      "\u001b[0;32m<ipython-input-8-3f792c18b365>\u001b[0m in \u001b[0;36m<module>\u001b[0;34m\u001b[0m\n\u001b[0;32m----> 1\u001b[0;31m \u001b[0mhelp\u001b[0m\u001b[0;34m(\u001b[0m\u001b[0mipykernel_launcher\u001b[0m\u001b[0;34m.\u001b[0m\u001b[0mpy\u001b[0m\u001b[0;34m)\u001b[0m\u001b[0;34m\u001b[0m\u001b[0;34m\u001b[0m\u001b[0m\n\u001b[0m",
      "\u001b[0;31mNameError\u001b[0m: name 'ipykernel_launcher' is not defined"
     ]
    }
   ],
   "source": [
    "help(ipykernel_launcher.py)"
   ]
  },
  {
   "cell_type": "code",
   "execution_count": null,
   "metadata": {},
   "outputs": [],
   "source": []
  }
 ],
 "metadata": {
  "kernelspec": {
   "display_name": "Python [conda env:fastai]",
   "language": "python",
   "name": "conda-env-fastai-py"
  },
  "language_info": {
   "codemirror_mode": {
    "name": "ipython",
    "version": 3
   },
   "file_extension": ".py",
   "mimetype": "text/x-python",
   "name": "python",
   "nbconvert_exporter": "python",
   "pygments_lexer": "ipython3",
   "version": "3.6.9"
  }
 },
 "nbformat": 4,
 "nbformat_minor": 2
}
